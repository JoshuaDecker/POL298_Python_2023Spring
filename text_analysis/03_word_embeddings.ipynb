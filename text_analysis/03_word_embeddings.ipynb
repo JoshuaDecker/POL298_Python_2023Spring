{
 "cells": [
  {
   "cell_type": "markdown",
   "id": "2c0c2f15-1a64-4b2b-8ca1-270f05aa24b9",
   "metadata": {},
   "source": [
    "# Python Text Analysis: Word Embeddings"
   ]
  },
  {
   "cell_type": "markdown",
   "id": "edf6a718-71e0-49d9-a1ed-7b0ab99d4e81",
   "metadata": {},
   "source": [
    "Thus far, we've focused on bag-of-word approaches to text analysis, where the text is represented as a vector of word frequencies. This generally works pretty well - we can do a decent job of supervised classification with this approach. However, word frequencies alone don't tell the whole picture. The ordering of words, for example, provides additional context that word frequencies don't capture. Furthermore, words can be used in a variety of ways, with different meanings that get lost in a word frequency representation.\n",
    "\n",
    "An alternative formalization of text consists of representing the words (or bi-grams, phrases, etc.) as vectors. They're also called word embeddings, because we embed the word in a higher dimensional space. A word vector has no inherent meaning to humans - ultimately, it's just a bunch of floating point numbers. But word vectors are useful because they're a numerical representation of text that captures its semantic meaning, and can easily be used in downstream tasks, such as dictionary methods, classification, topic modeling etc. Furthermore, the vector representation can be used to perform semantic tasks, such as finding synonyms, testing analogies, and others. The big question, however, is: how do we create the word vector in the first place?\n",
    "\n",
    "The answer is to pick the right task. Specifically, we're going to calculate the word vectors so that they can be successfully used in one of two tasks: predicting surrounding words, or predicting words within a context."
   ]
  },
  {
   "cell_type": "markdown",
   "id": "94fc6996",
   "metadata": {},
   "source": [
    "# The Word Embedding Model: `word2vec`"
   ]
  },
  {
   "cell_type": "markdown",
   "id": "ef6396f1-6baa-49cb-8a4a-3679732f315e",
   "metadata": {},
   "source": [
    "The word embedding model, generally referred to as `word2vec`, was developed by [Mikolov et al.](https://arxiv.org/abs/1310.4546) in 2013. The basic premise is to find vector representations of tokens that have semantic meaning. How do we go about learning a \"good\" vector representation from the data?\n",
    "\n",
    "Mikolov et al. proposed two approaches: the **skip-gram (SG)** and the **continuous bag-of-words (CBOW)**. Both approaches are similar in that we use the vector representation of a token to try and predict what the nearby tokens are with a shallow neural network.\n",
    "\n",
    "![word2vec](../images/word2vec.png)\n",
    "\n",
    "In the continuous bag-of-words model, our goal is to predict a word $w(t)$, given the words that surround it - e.g., $w(t-2), w(t-1), w(t+1), w(t+2)$, etc. So, in an example text such as `I went to the store to get some apples`, we may try to use the word vectors for `I`, `went`, `to`, `the`, `to`, `get`, `some`, `apples` to predict the word `store`. This would correspond to a *window size* of 4: 4 words on either side of the target word.\n",
    "\n",
    "In the skip-gram model, we construct a word vector that can be used to predict the words surrounding a specific word $w(t)$. This is the reverse of the continuous bag-of-words, and is a harder task, since we have to predict more from less information. In the above example, we'd aim to predict the remaining words in the sentence from the word vector for `store`. \n",
    "\n",
    "You can use either approaches to build a set of word embeddings. Mikolov et al. demonstrated that the skip-gram works pretty well in larger corpuses. Furthermore, it's easier to train the skip-gram efficiently, making it faster.\n",
    "\n",
    "The mechanics of how the training is actually done revolves around a **shallow neural network**. An **objective function** is specified - a mathematical expression that quantifies how well we predicted a word - which allows the values of the word vectors to be optimized using **back propagation**. We won't go into these details for this workshop, but check out the Python Deep Learning workshop if you'd like to learn more about neural networks!\n",
    "\n",
    "Let's jump into it!"
   ]
  },
  {
   "cell_type": "markdown",
   "id": "3aaa0a94",
   "metadata": {},
   "source": [
    "# Installing `gensim`"
   ]
  },
  {
   "cell_type": "code",
   "execution_count": 1,
   "id": "c3b7b49d-86ab-45d3-9e63-42926c134b30",
   "metadata": {},
   "outputs": [],
   "source": [
    "import numpy as np\n",
    "import pandas as pd\n",
    "import re\n",
    "\n",
    "from sklearn.model_selection import train_test_split\n",
    "from sklearn.linear_model import LogisticRegressionCV"
   ]
  },
  {
   "cell_type": "markdown",
   "id": "6ff20430",
   "metadata": {},
   "source": [
    "We'll be using a package called `gensim` to conduct our word embedding experiments. `gensim` is one of the major Python packages for natural language processing, largely aimed at using different kinds of embeddings.\n",
    "\n",
    "If you don't have `gensim` installed, you can install it directly within this notebook:"
   ]
  },
  {
   "cell_type": "code",
   "execution_count": 2,
   "id": "94d66811",
   "metadata": {},
   "outputs": [
    {
     "name": "stdout",
     "output_type": "stream",
     "text": [
      "Requirement already satisfied: gensim in /Users/blueraspberry/anaconda3/lib/python3.10/site-packages (4.3.0)\n",
      "Requirement already satisfied: numpy>=1.18.5 in /Users/blueraspberry/anaconda3/lib/python3.10/site-packages (from gensim) (1.23.5)\n",
      "Requirement already satisfied: scipy>=1.7.0 in /Users/blueraspberry/anaconda3/lib/python3.10/site-packages (from gensim) (1.10.0)\n",
      "Requirement already satisfied: smart-open>=1.8.1 in /Users/blueraspberry/anaconda3/lib/python3.10/site-packages (from gensim) (5.2.1)\n",
      "Collecting FuzzyTM>=0.4.0\n",
      "  Downloading FuzzyTM-2.0.5-py3-none-any.whl (29 kB)\n",
      "Collecting pyfume\n",
      "  Downloading pyFUME-0.2.25-py3-none-any.whl (67 kB)\n",
      "\u001b[2K     \u001b[90m━━━━━━━━━━━━━━━━━━━━━━━━━━━━━━━━━━━━━━━━\u001b[0m \u001b[32m67.1/67.1 kB\u001b[0m \u001b[31m2.2 MB/s\u001b[0m eta \u001b[36m0:00:00\u001b[0m\n",
      "\u001b[?25hRequirement already satisfied: pandas in /Users/blueraspberry/anaconda3/lib/python3.10/site-packages (from FuzzyTM>=0.4.0->gensim) (1.5.3)\n",
      "Requirement already satisfied: python-dateutil>=2.8.1 in /Users/blueraspberry/anaconda3/lib/python3.10/site-packages (from pandas->FuzzyTM>=0.4.0->gensim) (2.8.2)\n",
      "Requirement already satisfied: pytz>=2020.1 in /Users/blueraspberry/anaconda3/lib/python3.10/site-packages (from pandas->FuzzyTM>=0.4.0->gensim) (2022.7)\n",
      "Collecting fst-pso\n",
      "  Downloading fst-pso-1.8.1.tar.gz (18 kB)\n",
      "  Preparing metadata (setup.py) ... \u001b[?25ldone\n",
      "\u001b[?25hCollecting simpful\n",
      "  Downloading simpful-2.11.0-py3-none-any.whl (32 kB)\n",
      "Requirement already satisfied: six>=1.5 in /Users/blueraspberry/anaconda3/lib/python3.10/site-packages (from python-dateutil>=2.8.1->pandas->FuzzyTM>=0.4.0->gensim) (1.16.0)\n",
      "Collecting miniful\n",
      "  Downloading miniful-0.0.6.tar.gz (2.8 kB)\n",
      "  Preparing metadata (setup.py) ... \u001b[?25ldone\n",
      "\u001b[?25hBuilding wheels for collected packages: fst-pso, miniful\n",
      "  Building wheel for fst-pso (setup.py) ... \u001b[?25ldone\n",
      "\u001b[?25h  Created wheel for fst-pso: filename=fst_pso-1.8.1-py3-none-any.whl size=20430 sha256=3d9023e57dc2733a191ab9b0c6326ccc5b14969aedfe6461d3929ca9ae93de36\n",
      "  Stored in directory: /Users/blueraspberry/Library/Caches/pip/wheels/01/02/ee/df0699282986903a384b69aab4413af9efd26b3612b5dccc9e\n",
      "  Building wheel for miniful (setup.py) ... \u001b[?25ldone\n",
      "\u001b[?25h  Created wheel for miniful: filename=miniful-0.0.6-py3-none-any.whl size=3513 sha256=a127cdc5407d7737a89394dee9cebd5eb1986b868d5ab9f1039f275518334754\n",
      "  Stored in directory: /Users/blueraspberry/Library/Caches/pip/wheels/43/aa/48/5c66b931ff013ad19774081aa19656637af5c0cc33b5494b30\n",
      "Successfully built fst-pso miniful\n",
      "Installing collected packages: simpful, miniful, fst-pso, pyfume, FuzzyTM\n",
      "Successfully installed FuzzyTM-2.0.5 fst-pso-1.8.1 miniful-0.0.6 pyfume-0.2.25 simpful-2.11.0\n"
     ]
    }
   ],
   "source": [
    "# Run if you do not have gensim installed\n",
    "!pip install gensim"
   ]
  },
  {
   "cell_type": "code",
   "execution_count": 3,
   "id": "4b84a258",
   "metadata": {},
   "outputs": [],
   "source": [
    "import gensim\n",
    "import gensim.downloader as api"
   ]
  },
  {
   "cell_type": "markdown",
   "id": "67f162cd-e284-4081-bf8f-e052e492e9e8",
   "metadata": {},
   "source": [
    "# Using Pre-trained Word Embeddings"
   ]
  },
  {
   "cell_type": "markdown",
   "id": "e01cd2bc",
   "metadata": {},
   "source": [
    "The first thing we'll do is use a pre-trained word embedding. This means that we're downloading a word embedding model that has already been trained on a large corpus. Researchers have trained a variety of models in different contexts that are freely available on `gensim`. We can take a look at a few of them by looking in the `gensim` downloader:"
   ]
  },
  {
   "cell_type": "code",
   "execution_count": 4,
   "id": "9042101c",
   "metadata": {},
   "outputs": [
    {
     "name": "stdout",
     "output_type": "stream",
     "text": [
      "['fasttext-wiki-news-subwords-300', 'conceptnet-numberbatch-17-06-300', 'word2vec-ruscorpora-300', 'word2vec-google-news-300', 'glove-wiki-gigaword-50', 'glove-wiki-gigaword-100', 'glove-wiki-gigaword-200', 'glove-wiki-gigaword-300', 'glove-twitter-25', 'glove-twitter-50', 'glove-twitter-100', 'glove-twitter-200', '__testing_word2vec-matrix-synopsis']\n"
     ]
    }
   ],
   "source": [
    "gensim_models = list(api.info()['models'].keys())\n",
    "print(gensim_models)"
   ]
  },
  {
   "cell_type": "markdown",
   "id": "5b25caa4",
   "metadata": {},
   "source": [
    "We are going to use the `word2vec-google-news-300` model: this is a word embedding model that is trained on Google News, where the embedding is 300 dimensions. Downloading this might take a while! The word embedding model is nearly 2 GB. "
   ]
  },
  {
   "cell_type": "code",
   "execution_count": 5,
   "id": "28406e56-9728-40df-a370-aafb9cce12d9",
   "metadata": {},
   "outputs": [
    {
     "name": "stdout",
     "output_type": "stream",
     "text": [
      "[--------------------------------------------------] 1.4% 23.4/1662.8MB downloaded"
     ]
    },
    {
     "name": "stderr",
     "output_type": "stream",
     "text": [
      "IOPub message rate exceeded.\n",
      "The Jupyter server will temporarily stop sending output\n",
      "to the client in order to avoid crashing it.\n",
      "To change this limit, set the config variable\n",
      "`--ServerApp.iopub_msg_rate_limit`.\n",
      "\n",
      "Current values:\n",
      "ServerApp.iopub_msg_rate_limit=1000.0 (msgs/sec)\n",
      "ServerApp.rate_limit_window=3.0 (secs)\n",
      "\n"
     ]
    },
    {
     "name": "stdout",
     "output_type": "stream",
     "text": [
      "[==------------------------------------------------] 5.5% 92.2/1662.8MB downloaded"
     ]
    },
    {
     "name": "stderr",
     "output_type": "stream",
     "text": [
      "IOPub message rate exceeded.\n",
      "The Jupyter server will temporarily stop sending output\n",
      "to the client in order to avoid crashing it.\n",
      "To change this limit, set the config variable\n",
      "`--ServerApp.iopub_msg_rate_limit`.\n",
      "\n",
      "Current values:\n",
      "ServerApp.iopub_msg_rate_limit=1000.0 (msgs/sec)\n",
      "ServerApp.rate_limit_window=3.0 (secs)\n",
      "\n"
     ]
    },
    {
     "name": "stdout",
     "output_type": "stream",
     "text": [
      "[====----------------------------------------------] 9.8% 162.8/1662.8MB downloaded"
     ]
    },
    {
     "name": "stderr",
     "output_type": "stream",
     "text": [
      "IOPub message rate exceeded.\n",
      "The Jupyter server will temporarily stop sending output\n",
      "to the client in order to avoid crashing it.\n",
      "To change this limit, set the config variable\n",
      "`--ServerApp.iopub_msg_rate_limit`.\n",
      "\n",
      "Current values:\n",
      "ServerApp.iopub_msg_rate_limit=1000.0 (msgs/sec)\n",
      "ServerApp.rate_limit_window=3.0 (secs)\n",
      "\n"
     ]
    },
    {
     "name": "stdout",
     "output_type": "stream",
     "text": [
      "[=======-------------------------------------------] 14.2% 235.8/1662.8MB downloaded"
     ]
    },
    {
     "name": "stderr",
     "output_type": "stream",
     "text": [
      "IOPub message rate exceeded.\n",
      "The Jupyter server will temporarily stop sending output\n",
      "to the client in order to avoid crashing it.\n",
      "To change this limit, set the config variable\n",
      "`--ServerApp.iopub_msg_rate_limit`.\n",
      "\n",
      "Current values:\n",
      "ServerApp.iopub_msg_rate_limit=1000.0 (msgs/sec)\n",
      "ServerApp.rate_limit_window=3.0 (secs)\n",
      "\n"
     ]
    },
    {
     "name": "stdout",
     "output_type": "stream",
     "text": [
      "[=========-----------------------------------------] 18.5% 307.6/1662.8MB downloaded"
     ]
    },
    {
     "name": "stderr",
     "output_type": "stream",
     "text": [
      "IOPub message rate exceeded.\n",
      "The Jupyter server will temporarily stop sending output\n",
      "to the client in order to avoid crashing it.\n",
      "To change this limit, set the config variable\n",
      "`--ServerApp.iopub_msg_rate_limit`.\n",
      "\n",
      "Current values:\n",
      "ServerApp.iopub_msg_rate_limit=1000.0 (msgs/sec)\n",
      "ServerApp.rate_limit_window=3.0 (secs)\n",
      "\n"
     ]
    },
    {
     "name": "stdout",
     "output_type": "stream",
     "text": [
      "[===========---------------------------------------] 22.9% 381.0/1662.8MB downloaded"
     ]
    },
    {
     "name": "stderr",
     "output_type": "stream",
     "text": [
      "IOPub message rate exceeded.\n",
      "The Jupyter server will temporarily stop sending output\n",
      "to the client in order to avoid crashing it.\n",
      "To change this limit, set the config variable\n",
      "`--ServerApp.iopub_msg_rate_limit`.\n",
      "\n",
      "Current values:\n",
      "ServerApp.iopub_msg_rate_limit=1000.0 (msgs/sec)\n",
      "ServerApp.rate_limit_window=3.0 (secs)\n",
      "\n"
     ]
    },
    {
     "name": "stdout",
     "output_type": "stream",
     "text": [
      "[=============-------------------------------------] 27.5% 456.6/1662.8MB downloaded"
     ]
    },
    {
     "name": "stderr",
     "output_type": "stream",
     "text": [
      "IOPub message rate exceeded.\n",
      "The Jupyter server will temporarily stop sending output\n",
      "to the client in order to avoid crashing it.\n",
      "To change this limit, set the config variable\n",
      "`--ServerApp.iopub_msg_rate_limit`.\n",
      "\n",
      "Current values:\n",
      "ServerApp.iopub_msg_rate_limit=1000.0 (msgs/sec)\n",
      "ServerApp.rate_limit_window=3.0 (secs)\n",
      "\n"
     ]
    },
    {
     "name": "stdout",
     "output_type": "stream",
     "text": [
      "[================----------------------------------] 32.1% 533.2/1662.8MB downloaded"
     ]
    },
    {
     "name": "stderr",
     "output_type": "stream",
     "text": [
      "IOPub message rate exceeded.\n",
      "The Jupyter server will temporarily stop sending output\n",
      "to the client in order to avoid crashing it.\n",
      "To change this limit, set the config variable\n",
      "`--ServerApp.iopub_msg_rate_limit`.\n",
      "\n",
      "Current values:\n",
      "ServerApp.iopub_msg_rate_limit=1000.0 (msgs/sec)\n",
      "ServerApp.rate_limit_window=3.0 (secs)\n",
      "\n"
     ]
    },
    {
     "name": "stdout",
     "output_type": "stream",
     "text": [
      "[==================--------------------------------] 36.4% 606.0/1662.8MB downloaded"
     ]
    },
    {
     "name": "stderr",
     "output_type": "stream",
     "text": [
      "IOPub message rate exceeded.\n",
      "The Jupyter server will temporarily stop sending output\n",
      "to the client in order to avoid crashing it.\n",
      "To change this limit, set the config variable\n",
      "`--ServerApp.iopub_msg_rate_limit`.\n",
      "\n",
      "Current values:\n",
      "ServerApp.iopub_msg_rate_limit=1000.0 (msgs/sec)\n",
      "ServerApp.rate_limit_window=3.0 (secs)\n",
      "\n"
     ]
    },
    {
     "name": "stdout",
     "output_type": "stream",
     "text": [
      "[====================------------------------------] 41.1% 683.4/1662.8MB downloaded"
     ]
    },
    {
     "name": "stderr",
     "output_type": "stream",
     "text": [
      "IOPub message rate exceeded.\n",
      "The Jupyter server will temporarily stop sending output\n",
      "to the client in order to avoid crashing it.\n",
      "To change this limit, set the config variable\n",
      "`--ServerApp.iopub_msg_rate_limit`.\n",
      "\n",
      "Current values:\n",
      "ServerApp.iopub_msg_rate_limit=1000.0 (msgs/sec)\n",
      "ServerApp.rate_limit_window=3.0 (secs)\n",
      "\n"
     ]
    },
    {
     "name": "stdout",
     "output_type": "stream",
     "text": [
      "[======================----------------------------] 45.8% 761.9/1662.8MB downloaded"
     ]
    },
    {
     "name": "stderr",
     "output_type": "stream",
     "text": [
      "IOPub message rate exceeded.\n",
      "The Jupyter server will temporarily stop sending output\n",
      "to the client in order to avoid crashing it.\n",
      "To change this limit, set the config variable\n",
      "`--ServerApp.iopub_msg_rate_limit`.\n",
      "\n",
      "Current values:\n",
      "ServerApp.iopub_msg_rate_limit=1000.0 (msgs/sec)\n",
      "ServerApp.rate_limit_window=3.0 (secs)\n",
      "\n"
     ]
    },
    {
     "name": "stdout",
     "output_type": "stream",
     "text": [
      "[=========================-------------------------] 51.0% 847.6/1662.8MB downloaded"
     ]
    },
    {
     "name": "stderr",
     "output_type": "stream",
     "text": [
      "IOPub message rate exceeded.\n",
      "The Jupyter server will temporarily stop sending output\n",
      "to the client in order to avoid crashing it.\n",
      "To change this limit, set the config variable\n",
      "`--ServerApp.iopub_msg_rate_limit`.\n",
      "\n",
      "Current values:\n",
      "ServerApp.iopub_msg_rate_limit=1000.0 (msgs/sec)\n",
      "ServerApp.rate_limit_window=3.0 (secs)\n",
      "\n"
     ]
    },
    {
     "name": "stdout",
     "output_type": "stream",
     "text": [
      "[===========================-----------------------] 55.6% 924.6/1662.8MB downloaded"
     ]
    },
    {
     "name": "stderr",
     "output_type": "stream",
     "text": [
      "IOPub message rate exceeded.\n",
      "The Jupyter server will temporarily stop sending output\n",
      "to the client in order to avoid crashing it.\n",
      "To change this limit, set the config variable\n",
      "`--ServerApp.iopub_msg_rate_limit`.\n",
      "\n",
      "Current values:\n",
      "ServerApp.iopub_msg_rate_limit=1000.0 (msgs/sec)\n",
      "ServerApp.rate_limit_window=3.0 (secs)\n",
      "\n"
     ]
    },
    {
     "name": "stdout",
     "output_type": "stream",
     "text": [
      "[==============================--------------------] 60.4% 1004.9/1662.8MB downloaded"
     ]
    },
    {
     "name": "stderr",
     "output_type": "stream",
     "text": [
      "IOPub message rate exceeded.\n",
      "The Jupyter server will temporarily stop sending output\n",
      "to the client in order to avoid crashing it.\n",
      "To change this limit, set the config variable\n",
      "`--ServerApp.iopub_msg_rate_limit`.\n",
      "\n",
      "Current values:\n",
      "ServerApp.iopub_msg_rate_limit=1000.0 (msgs/sec)\n",
      "ServerApp.rate_limit_window=3.0 (secs)\n",
      "\n"
     ]
    },
    {
     "name": "stdout",
     "output_type": "stream",
     "text": [
      "[================================------------------] 65.3% 1085.9/1662.8MB downloaded"
     ]
    },
    {
     "name": "stderr",
     "output_type": "stream",
     "text": [
      "IOPub message rate exceeded.\n",
      "The Jupyter server will temporarily stop sending output\n",
      "to the client in order to avoid crashing it.\n",
      "To change this limit, set the config variable\n",
      "`--ServerApp.iopub_msg_rate_limit`.\n",
      "\n",
      "Current values:\n",
      "ServerApp.iopub_msg_rate_limit=1000.0 (msgs/sec)\n",
      "ServerApp.rate_limit_window=3.0 (secs)\n",
      "\n"
     ]
    },
    {
     "name": "stdout",
     "output_type": "stream",
     "text": [
      "[===================================---------------] 70.2% 1167.5/1662.8MB downloaded"
     ]
    },
    {
     "name": "stderr",
     "output_type": "stream",
     "text": [
      "IOPub message rate exceeded.\n",
      "The Jupyter server will temporarily stop sending output\n",
      "to the client in order to avoid crashing it.\n",
      "To change this limit, set the config variable\n",
      "`--ServerApp.iopub_msg_rate_limit`.\n",
      "\n",
      "Current values:\n",
      "ServerApp.iopub_msg_rate_limit=1000.0 (msgs/sec)\n",
      "ServerApp.rate_limit_window=3.0 (secs)\n",
      "\n"
     ]
    },
    {
     "name": "stdout",
     "output_type": "stream",
     "text": [
      "[=====================================-------------] 75.2% 1249.7/1662.8MB downloaded"
     ]
    },
    {
     "name": "stderr",
     "output_type": "stream",
     "text": [
      "IOPub message rate exceeded.\n",
      "The Jupyter server will temporarily stop sending output\n",
      "to the client in order to avoid crashing it.\n",
      "To change this limit, set the config variable\n",
      "`--ServerApp.iopub_msg_rate_limit`.\n",
      "\n",
      "Current values:\n",
      "ServerApp.iopub_msg_rate_limit=1000.0 (msgs/sec)\n",
      "ServerApp.rate_limit_window=3.0 (secs)\n",
      "\n"
     ]
    },
    {
     "name": "stdout",
     "output_type": "stream",
     "text": [
      "[========================================----------] 80.1% 1332.5/1662.8MB downloaded"
     ]
    },
    {
     "name": "stderr",
     "output_type": "stream",
     "text": [
      "IOPub message rate exceeded.\n",
      "The Jupyter server will temporarily stop sending output\n",
      "to the client in order to avoid crashing it.\n",
      "To change this limit, set the config variable\n",
      "`--ServerApp.iopub_msg_rate_limit`.\n",
      "\n",
      "Current values:\n",
      "ServerApp.iopub_msg_rate_limit=1000.0 (msgs/sec)\n",
      "ServerApp.rate_limit_window=3.0 (secs)\n",
      "\n"
     ]
    },
    {
     "name": "stdout",
     "output_type": "stream",
     "text": [
      "[==========================================--------] 85.4% 1419.4/1662.8MB downloaded"
     ]
    },
    {
     "name": "stderr",
     "output_type": "stream",
     "text": [
      "IOPub message rate exceeded.\n",
      "The Jupyter server will temporarily stop sending output\n",
      "to the client in order to avoid crashing it.\n",
      "To change this limit, set the config variable\n",
      "`--ServerApp.iopub_msg_rate_limit`.\n",
      "\n",
      "Current values:\n",
      "ServerApp.iopub_msg_rate_limit=1000.0 (msgs/sec)\n",
      "ServerApp.rate_limit_window=3.0 (secs)\n",
      "\n"
     ]
    },
    {
     "name": "stdout",
     "output_type": "stream",
     "text": [
      "[=============================================-----] 90.3% 1502.1/1662.8MB downloaded"
     ]
    },
    {
     "name": "stderr",
     "output_type": "stream",
     "text": [
      "IOPub message rate exceeded.\n",
      "The Jupyter server will temporarily stop sending output\n",
      "to the client in order to avoid crashing it.\n",
      "To change this limit, set the config variable\n",
      "`--ServerApp.iopub_msg_rate_limit`.\n",
      "\n",
      "Current values:\n",
      "ServerApp.iopub_msg_rate_limit=1000.0 (msgs/sec)\n",
      "ServerApp.rate_limit_window=3.0 (secs)\n",
      "\n"
     ]
    },
    {
     "name": "stdout",
     "output_type": "stream",
     "text": [
      "[===============================================---] 95.2% 1583.0/1662.8MB downloaded"
     ]
    },
    {
     "name": "stderr",
     "output_type": "stream",
     "text": [
      "IOPub message rate exceeded.\n",
      "The Jupyter server will temporarily stop sending output\n",
      "to the client in order to avoid crashing it.\n",
      "To change this limit, set the config variable\n",
      "`--ServerApp.iopub_msg_rate_limit`.\n",
      "\n",
      "Current values:\n",
      "ServerApp.iopub_msg_rate_limit=1000.0 (msgs/sec)\n",
      "ServerApp.rate_limit_window=3.0 (secs)\n",
      "\n"
     ]
    },
    {
     "name": "stdout",
     "output_type": "stream",
     "text": [
      "[=================================================-] 100.0% 1662.3/1662.8MB downloaded\n"
     ]
    }
   ],
   "source": [
    "wv = api.load('word2vec-google-news-300')"
   ]
  },
  {
   "cell_type": "markdown",
   "id": "4455f5da",
   "metadata": {},
   "source": [
    "How many word vectors are available in this word embedding model? We can access the `index_to_key` member variable to find out:"
   ]
  },
  {
   "cell_type": "code",
   "execution_count": 6,
   "id": "41831a2b",
   "metadata": {},
   "outputs": [
    {
     "name": "stdout",
     "output_type": "stream",
     "text": [
      "Number of words: 3000000\n",
      "['</s>', 'in', 'for', 'that', 'is', 'on', '##', 'The', 'with', 'said', 'was', 'the', 'at', 'not', 'as', 'it', 'be', 'from', 'by', 'are']\n"
     ]
    }
   ],
   "source": [
    "n_words = len(wv.index_to_key)\n",
    "print(f\"Number of words: {n_words}\")\n",
    "print(wv.index_to_key[:20])"
   ]
  },
  {
   "cell_type": "markdown",
   "id": "0ac1e2ab",
   "metadata": {},
   "source": [
    "The model is trained using a vocabulary of size 3 million! This is a huge model, which takes hours to train. This is why we used a pre-trained model - we likely don't have the resources to train this on our local machines.\n",
    "\n",
    "Accessing the actual word vectors can be done by treating the word vector model as a dictionary. For example, let's take a look at the word vector for `\"banana\"`:"
   ]
  },
  {
   "cell_type": "code",
   "execution_count": 7,
   "id": "c160fd83",
   "metadata": {},
   "outputs": [
    {
     "name": "stdout",
     "output_type": "stream",
     "text": [
      "[-8.54492188e-02  4.71191406e-02 -6.93359375e-02  3.02734375e-01\n",
      " -1.87500000e-01 -3.19824219e-02  2.95410156e-02 -2.05078125e-01\n",
      " -9.03320312e-02  2.98828125e-01  2.10937500e-01 -6.88476562e-02\n",
      "  4.76074219e-02  5.83496094e-02 -2.75390625e-01  2.42187500e-01\n",
      " -3.22265625e-01  4.73632812e-02 -1.44531250e-01  9.37500000e-02\n",
      "  6.74438477e-03  2.17773438e-01  2.31445312e-01  1.87500000e-01\n",
      "  8.49609375e-02 -5.39550781e-02 -2.65625000e-01  2.23388672e-02\n",
      "  2.24609375e-01  4.12109375e-01 -2.30712891e-02 -1.67968750e-01\n",
      "  1.01928711e-02  2.10937500e-01  1.14135742e-02  2.50000000e-01\n",
      "  8.64257812e-02 -2.16796875e-01  8.93554688e-02  1.50390625e-01\n",
      " -2.03125000e-01 -2.30468750e-01  1.42578125e-01  1.34765625e-01\n",
      " -1.13769531e-01 -1.80664062e-01  3.58886719e-02 -1.69921875e-01\n",
      "  1.55273438e-01  2.39257812e-01 -2.30468750e-01 -9.96093750e-02\n",
      "  1.82617188e-01 -1.81640625e-01 -1.46484375e-01 -7.03125000e-02\n",
      "  9.37500000e-02 -2.67578125e-01  2.17285156e-02 -1.45507812e-01\n",
      " -2.38037109e-02  1.53320312e-01 -9.81445312e-02 -1.69677734e-02\n",
      "  5.00488281e-02 -3.08593750e-01 -3.00781250e-01 -3.20312500e-01\n",
      "  1.18652344e-01 -1.28906250e-01  1.79687500e-01  8.74023438e-02\n",
      " -1.48925781e-02 -9.71679688e-02 -5.62500000e-01  2.50244141e-02\n",
      " -2.08984375e-01 -2.33398438e-01 -9.86328125e-02 -2.22167969e-02\n",
      " -1.13281250e-01  1.17675781e-01 -1.56250000e-01 -1.03515625e-01\n",
      "  6.22558594e-02 -2.04101562e-01  2.75878906e-02  2.57812500e-01\n",
      " -1.89453125e-01 -6.29882812e-02 -2.94921875e-01  1.64062500e-01\n",
      "  2.21252441e-04 -1.40625000e-01 -2.45361328e-02 -6.73828125e-02\n",
      " -4.76074219e-02  2.57568359e-02  2.92968750e-01 -4.41894531e-02\n",
      " -2.26562500e-01 -3.07617188e-02  3.66210938e-02  1.00585938e-01\n",
      " -8.10546875e-02  7.76367188e-02  1.94335938e-01 -1.09863281e-01\n",
      " -2.59765625e-01 -1.41601562e-01 -2.67578125e-01 -2.39257812e-01\n",
      " -2.34375000e-01  6.59179688e-02 -2.96875000e-01 -1.22680664e-02\n",
      "  1.44531250e-01 -2.38281250e-01  2.38037109e-02  2.81982422e-02\n",
      " -5.12695312e-02 -1.06445312e-01 -1.22070312e-01 -2.33398438e-01\n",
      " -1.75781250e-01  1.24023438e-01  1.94091797e-02 -1.08886719e-01\n",
      "  1.19628906e-01  3.73046875e-01 -2.48046875e-01 -1.38671875e-01\n",
      " -1.33789062e-01 -2.65625000e-01 -2.71484375e-01  2.67578125e-01\n",
      " -5.22460938e-02  4.68750000e-02  1.42578125e-01 -2.57812500e-01\n",
      " -1.46484375e-01 -4.02343750e-01 -7.95898438e-02  3.39355469e-02\n",
      "  1.06445312e-01  8.64257812e-02  1.00585938e-01  6.39648438e-02\n",
      " -1.69921875e-01  2.67578125e-01  4.85839844e-02 -1.90429688e-01\n",
      " -3.22265625e-01  1.03027344e-01  4.19921875e-02 -6.37817383e-03\n",
      " -1.96289062e-01 -1.04003906e-01  1.04492188e-01 -1.68945312e-01\n",
      " -3.14453125e-01  2.16674805e-03  1.27929688e-01  9.17968750e-02\n",
      " -1.25976562e-01 -2.12097168e-03  1.94335938e-01 -1.42578125e-01\n",
      " -1.56250000e-01 -5.44433594e-02 -9.13085938e-02  1.52343750e-01\n",
      " -2.55126953e-02 -2.38281250e-01 -4.14062500e-01 -1.99218750e-01\n",
      "  1.73828125e-01 -8.25195312e-02  6.88476562e-02  2.69531250e-01\n",
      " -9.17968750e-02 -8.10546875e-02 -2.45117188e-01  2.53906250e-01\n",
      " -1.96838379e-03  5.05371094e-02  4.66308594e-02  2.63671875e-02\n",
      "  2.23632812e-01 -1.89453125e-01  1.04003906e-01 -2.80761719e-02\n",
      "  4.00390625e-02 -2.07031250e-01  4.06250000e-01  4.49218750e-01\n",
      " -3.32031250e-02 -2.24609375e-01 -1.28906250e-01 -2.86865234e-02\n",
      "  2.08984375e-01 -2.18750000e-01  6.07910156e-02  1.25000000e-01\n",
      "  4.37011719e-02  7.17773438e-02  3.14941406e-02  1.23535156e-01\n",
      " -8.23974609e-03 -4.32128906e-02 -2.31445312e-01  7.37304688e-02\n",
      " -1.51367188e-01  1.52343750e-01  2.08007812e-01 -1.63085938e-01\n",
      " -2.20703125e-01 -2.96875000e-01  1.46484375e-01  3.16406250e-01\n",
      "  9.47265625e-02 -7.03125000e-02 -2.06054688e-01 -3.06396484e-02\n",
      " -1.22070312e-01 -2.47070312e-01  9.13085938e-02  1.22558594e-01\n",
      "  4.10156250e-01  1.22558594e-01  3.80859375e-02 -8.64257812e-02\n",
      " -4.27246094e-02  4.12597656e-02 -1.30859375e-01 -1.11328125e-01\n",
      " -1.15966797e-02 -1.60156250e-01  2.63671875e-01  5.37109375e-02\n",
      "  3.11279297e-02 -2.53906250e-01  6.12792969e-02  5.02929688e-02\n",
      "  3.68652344e-02 -2.83203125e-01 -3.63281250e-01  2.78320312e-02\n",
      "  1.28906250e-01 -1.85546875e-01 -1.03515625e-01 -1.29882812e-01\n",
      "  3.69140625e-01 -1.31835938e-01 -4.22363281e-02 -3.98437500e-01\n",
      "  1.08642578e-02 -1.95312500e-01 -1.49414062e-01 -4.95605469e-02\n",
      " -7.91015625e-02  2.50000000e-01 -2.05078125e-01  2.65625000e-01\n",
      " -1.19628906e-02 -1.37695312e-01 -1.73828125e-01  3.35937500e-01\n",
      " -1.28906250e-01 -2.55859375e-01 -1.89453125e-01  1.61132812e-01\n",
      "  2.23632812e-01 -1.08886719e-01 -8.05664062e-03  1.82617188e-01\n",
      " -1.90429688e-01 -1.69677734e-02 -6.83593750e-02  3.04687500e-01\n",
      "  1.79687500e-01  1.65039062e-01  5.85937500e-02 -1.02050781e-01\n",
      "  6.68945312e-02 -7.61718750e-02 -3.33984375e-01  6.34765625e-02\n",
      " -9.76562500e-02  1.71875000e-01 -1.77734375e-01 -8.25195312e-02\n",
      "  3.85742188e-02 -2.94921875e-01  5.52368164e-03  5.44433594e-02\n",
      " -9.47265625e-02  1.26953125e-01  1.17187500e-01  1.77734375e-01]\n",
      "300\n"
     ]
    }
   ],
   "source": [
    "print(wv[\"banana\"])\n",
    "print(wv[\"banana\"].size)"
   ]
  },
  {
   "cell_type": "markdown",
   "id": "f75bb9eb",
   "metadata": {},
   "source": [
    "As promised, the word vector is 300-dimensional. Looking at the actual values of the vector is pretty uninformative - the values appear to be random floats. However, now that the word has been transformed into a vector, we can more easily perform computations on it that correspond to semantic operations. Let's take a look at a few examples."
   ]
  },
  {
   "cell_type": "markdown",
   "id": "47060f92",
   "metadata": {},
   "source": [
    "## Word Similarity"
   ]
  },
  {
   "cell_type": "markdown",
   "id": "7673852e",
   "metadata": {},
   "source": [
    "A semantic question we can ask is  that are similar to \"banana\". How does word similarity look in vector operations? We'd expect similar words to have vectors that are closer to each other in vector space.\n",
    "\n",
    "There are many metrics of vector similarity - one of the most useful ones is the [cosine similarity](https://en.wikipedia.org/wiki/Cosine_similarity). It has a range of 0 to 1, with orthogonal vectors have a cosine similarity of 0, and parallel vectors having a cosine similarity of 1. `gensim` provides a function that lets us find the most similar vectors to a queried vector - let's give it a shot! "
   ]
  },
  {
   "cell_type": "code",
   "execution_count": 8,
   "id": "35ed3da8",
   "metadata": {},
   "outputs": [
    {
     "data": {
      "text/plain": [
       "[('bananas', 0.752377450466156),\n",
       " ('pineapple', 0.6587537527084351),\n",
       " ('mango', 0.6365211009979248),\n",
       " ('pineapples', 0.6313878297805786),\n",
       " ('papaya', 0.6063666343688965),\n",
       " ('coconut', 0.6035483479499817),\n",
       " ('potato', 0.5747568607330322),\n",
       " ('melon', 0.5625776052474976),\n",
       " ('cashew', 0.562165379524231),\n",
       " ('tomato', 0.5590205788612366)]"
      ]
     },
     "execution_count": 8,
     "metadata": {},
     "output_type": "execute_result"
    }
   ],
   "source": [
    "wv.most_similar('banana')"
   ]
  },
  {
   "cell_type": "markdown",
   "id": "869df615",
   "metadata": {},
   "source": [
    "The most similar vectors to \"banana\" are other fruits and foods! These are conceptual relationships that are reflected in the word embedding that we did not explicitly train in the model. Let's try another, more abstract word:"
   ]
  },
  {
   "cell_type": "code",
   "execution_count": 9,
   "id": "9cd0e108-ebd2-4864-b436-7ff9f717cbf6",
   "metadata": {},
   "outputs": [
    {
     "data": {
      "text/plain": [
       "[('glad', 0.7408890724182129),\n",
       " ('pleased', 0.6632170677185059),\n",
       " ('ecstatic', 0.6626912355422974),\n",
       " ('overjoyed', 0.6599286794662476),\n",
       " ('thrilled', 0.6514049172401428),\n",
       " ('satisfied', 0.6437949538230896),\n",
       " ('proud', 0.636042058467865),\n",
       " ('delighted', 0.627237856388092),\n",
       " ('disappointed', 0.6269949674606323),\n",
       " ('excited', 0.6247665286064148)]"
      ]
     },
     "execution_count": 9,
     "metadata": {},
     "output_type": "execute_result"
    }
   ],
   "source": [
    "wv.most_similar('happy')"
   ]
  },
  {
   "cell_type": "markdown",
   "id": "da4a9a34",
   "metadata": {},
   "source": [
    "We see synonyms of \"happy\", and even an antonym (\"disappointed\"). "
   ]
  },
  {
   "cell_type": "markdown",
   "id": "b49ce27b",
   "metadata": {},
   "source": [
    "## Challenge 1\n",
    "\n",
    "Look up the `doesnt_match` function in `gensim`'s documentation. Use this function to identify which word doesn't match in the following group:\n",
    "\n",
    "banana, apple, strawberry, happy\n",
    "\n",
    "Then, try it on groups of words that you choose. Here are some suggestions:\n",
    "\n",
    "1. A group of fruits, and a vegetable. Can it identify that the vegetable doesn't match?\n",
    "2. A group of vehicles that travel by land, and a vehicle that travels by air (e.g., a plane or helicopter). Can it identify the vehicle that flies?\n",
    "3. A group of scientists (e.g., biologist, physicist, chemist, etc.) and a person who does not study an empirical science (e.g., an artist). Can it identify the occupation that is not science based?\n",
    "\n",
    "To be clear, `word2vec` does not learn the precise nature of the differences between these groups. However, the semantic differences correspond to similar words appearing near each other in large corpora."
   ]
  },
  {
   "cell_type": "code",
   "execution_count": 13,
   "id": "d6ea89b3-df3f-4272-96eb-c7d321703f5f",
   "metadata": {},
   "outputs": [
    {
     "name": "stdout",
     "output_type": "stream",
     "text": [
      "Help on package gensim:\n",
      "\n",
      "NAME\n",
      "    gensim\n",
      "\n",
      "DESCRIPTION\n",
      "    This package contains functionality to transform documents (strings) into vectors, and calculate\n",
      "    similarities between documents.\n",
      "\n",
      "PACKAGE CONTENTS\n",
      "    _matutils\n",
      "    corpora (package)\n",
      "    downloader\n",
      "    interfaces\n",
      "    matutils\n",
      "    models (package)\n",
      "    nosy\n",
      "    parsing (package)\n",
      "    scripts (package)\n",
      "    similarities (package)\n",
      "    test (package)\n",
      "    topic_coherence (package)\n",
      "    utils\n",
      "\n",
      "DATA\n",
      "    logger = <Logger gensim (WARNING)>\n",
      "\n",
      "VERSION\n",
      "    4.3.0\n",
      "\n",
      "FILE\n",
      "    /Users/blueraspberry/anaconda3/lib/python3.10/site-packages/gensim/__init__.py\n",
      "\n",
      "\n"
     ]
    }
   ],
   "source": [
    "help(gensim)"
   ]
  },
  {
   "cell_type": "code",
   "execution_count": 14,
   "id": "163d63fd-ff4f-4a0a-8b0a-8f095927a44c",
   "metadata": {},
   "outputs": [
    {
     "data": {
      "text/plain": [
       "'happy'"
      ]
     },
     "execution_count": 14,
     "metadata": {},
     "output_type": "execute_result"
    }
   ],
   "source": [
    "wv.doesnt_match(['banana', 'apple', 'strawberry', 'happy'])"
   ]
  },
  {
   "cell_type": "code",
   "execution_count": 15,
   "id": "54be23dc-66bd-46e7-b990-6f3c1e35e270",
   "metadata": {},
   "outputs": [
    {
     "data": {
      "text/plain": [
       "'lettuce'"
      ]
     },
     "execution_count": 15,
     "metadata": {},
     "output_type": "execute_result"
    }
   ],
   "source": [
    "# A group of fruits, and a vegetable\n",
    "wv.doesnt_match(['banana', 'apple', 'strawberry', 'lettuce'])"
   ]
  },
  {
   "cell_type": "code",
   "execution_count": 17,
   "id": "5b0383f7-46ff-44fa-ad73-32f1ec871cb7",
   "metadata": {},
   "outputs": [
    {
     "data": {
      "text/plain": [
       "'tank'"
      ]
     },
     "execution_count": 17,
     "metadata": {},
     "output_type": "execute_result"
    }
   ],
   "source": [
    "# A group of vehicles that travel by land, and a vehicle that travels by air\n",
    "wv.doesnt_match(['car', 'motorcycle', 'tank', 'glider'])\n",
    "\n",
    "# Got it wrong! It picked tank instead of glider!"
   ]
  },
  {
   "cell_type": "code",
   "execution_count": 18,
   "id": "1143b383-a800-47e3-8788-5155dc783e7a",
   "metadata": {},
   "outputs": [
    {
     "data": {
      "text/plain": [
       "'dancer'"
      ]
     },
     "execution_count": 18,
     "metadata": {},
     "output_type": "execute_result"
    }
   ],
   "source": [
    "# A group of scientists (e.g., biologist, physicist, chemist, etc.) and a person who does not study an empirical science (e.g., an artist). Can it identify the occupation that is not science based?\n",
    "wv.doesnt_match(['biologist', 'physicist', 'chemist', 'dancer'])"
   ]
  },
  {
   "cell_type": "markdown",
   "id": "779b2d08-83b7-49ed-a917-97e10e34221e",
   "metadata": {},
   "source": [
    "## Word Analogies"
   ]
  },
  {
   "cell_type": "markdown",
   "id": "b3a5bb85",
   "metadata": {},
   "source": [
    "One of the most famous usages of `word2vec` is via word analogies. For example:\n",
    "\n",
    "`Paris : France :: Berlin : Germany`\n",
    "\n",
    "Here, the analogy is between (Paris, France) and (Berlin, Germany), with \"capital city\" being the concept that connects them. We can abstract the \"analogy\" relationship to vector modeling. Let's pretend we're working with each of the vectors. Then, the analogy is\n",
    "\n",
    "$\\mathbf{v}_{\\text{France}} - \\mathbf{v}_{\\text{Paris}} \\approx \\mathbf{v}_{\\text{Germany}} - \\mathbf{v}_{\\text{Berlin}}.$\n",
    "\n",
    "The vector difference here represents the notion of \"capital city\". Presumably, going from the Paris vector to the France vector (i.e., the vector difference) will be the same as going from the Berlin vector to the Germany vector, if that difference carries similar semantic meaning.\n",
    "\n",
    "Let's test this directly. We'll do so by rewriting the above expression:\n",
    "\n",
    "$\\mathbf{v}_{\\text{France}} - \\mathbf{v}_{\\text{Paris}} + \\mathbf{v}_{\\text{Berlin}} \\approx \\mathbf{v}_{\\text{Germany}}.$\n",
    "\n",
    "We'll calculate the difference between Paris and France, add on Germany, and find the closest vector to that quantity. Notice that, in all these operations, we set `norm=True`, and renormalize. That's because different vectors might be of different lengths, so the normalization puts everything on a common scale."
   ]
  },
  {
   "cell_type": "code",
   "execution_count": 19,
   "id": "5556ad23",
   "metadata": {},
   "outputs": [],
   "source": [
    "# Calculate \"capital city\" vector difference\n",
    "difference = wv.get_vector('France', norm=True) - wv.get_vector('Paris', norm=True) \n",
    "# Add on Berlin\n",
    "difference += wv.get_vector('Berlin', norm=True)\n",
    "# Renormalize vector\n",
    "difference /= np.linalg.norm(difference)"
   ]
  },
  {
   "cell_type": "code",
   "execution_count": 20,
   "id": "a43aa6cd",
   "metadata": {},
   "outputs": [
    {
     "data": {
      "text/plain": [
       "[('Germany', 0.7901254892349243),\n",
       " ('Berlin', 0.6956422924995422),\n",
       " ('France', 0.6161972284317017),\n",
       " ('Austria', 0.6026812791824341),\n",
       " ('German', 0.6004960536956787),\n",
       " ('Germans', 0.5851002931594849),\n",
       " ('Poland', 0.5847076177597046),\n",
       " ('Hungary', 0.5271855592727661),\n",
       " ('BBC_Tristana_Moore', 0.5249711275100708),\n",
       " ('symbol_RSTI', 0.5245768427848816)]"
      ]
     },
     "execution_count": 20,
     "metadata": {},
     "output_type": "execute_result"
    }
   ],
   "source": [
    "# What is the most similar vector?\n",
    "wv.most_similar(difference)"
   ]
  },
  {
   "cell_type": "markdown",
   "id": "5e9ecfe0",
   "metadata": {},
   "source": [
    "Germany is the most similar! So, word analogies seem possible with `word2vec`.\n",
    "\n",
    "Carrying out these operations can be done in one fell swoop with the `most_similar` function. Check the documentation for this function. What do the `positive` and `negative` arguments mean?"
   ]
  },
  {
   "cell_type": "markdown",
   "id": "d2b1de6f",
   "metadata": {},
   "source": [
    "## Challenge 2\n",
    "\n",
    "Carry out the following word analogies:\n",
    "\n",
    "1. Mouse : Mice :: Goose : ?\n",
    "2. Kangaroo : Joey :: Cat : ?\n",
    "3. United States : Dollar :: Mexico : ?\n",
    "4. Happy : Sad :: Up : ?\n",
    "5. California : Sacramento :: Canada : ?\n",
    "6. California : Sacramento :: Washington : ?\n",
    "\n",
    "What about something more abstract, such as:\n",
    "\n",
    "7. United States : hamburger :: Canada : ?\n",
    "\n",
    "Some work well, and others don't work as well. Try to come up with your own analogies!"
   ]
  },
  {
   "cell_type": "code",
   "execution_count": 21,
   "id": "cd01a7de-35f7-4630-82d8-d7ae9d29f238",
   "metadata": {},
   "outputs": [
    {
     "data": {
      "text/plain": [
       "[('geese', 0.63051438331604),\n",
       " ('Canada_geese', 0.5270898342132568),\n",
       " ('mallards', 0.5100248456001282),\n",
       " ('birds', 0.5052502155303955),\n",
       " ('wild_turkeys', 0.502317488193512),\n",
       " ('goslings', 0.4923616051673889),\n",
       " ('waterfowl', 0.490485817193985),\n",
       " ('pheasants', 0.4903114140033722),\n",
       " ('mallard', 0.48380815982818604),\n",
       " ('fawns', 0.4810999929904938)]"
      ]
     },
     "execution_count": 21,
     "metadata": {},
     "output_type": "execute_result"
    }
   ],
   "source": [
    "wv.most_similar(positive=['mice', 'goose'], negative=['mouse'])"
   ]
  },
  {
   "cell_type": "code",
   "execution_count": 22,
   "id": "0f20a291-38e6-45b0-a0dd-f527827cf9f4",
   "metadata": {},
   "outputs": [
    {
     "data": {
      "text/plain": [
       "[('dog', 0.5410016775131226),\n",
       " ('poodle', 0.5067529678344727),\n",
       " ('cats', 0.5043997764587402),\n",
       " ('pet', 0.4962843358516693),\n",
       " ('feline', 0.4906769096851349),\n",
       " ('rabbit', 0.4799746870994568),\n",
       " ('monkey', 0.4723745882511139),\n",
       " ('dogs', 0.46669694781303406),\n",
       " ('felines', 0.4661637544631958),\n",
       " ('rodent', 0.46047261357307434)]"
      ]
     },
     "execution_count": 22,
     "metadata": {},
     "output_type": "execute_result"
    }
   ],
   "source": [
    "wv.most_similar(positive=['kangaroo', 'cat'], negative=['joey'])"
   ]
  },
  {
   "cell_type": "code",
   "execution_count": 23,
   "id": "ccc5952c-8784-4ecd-948a-b61c013f00d8",
   "metadata": {},
   "outputs": [
    {
     "data": {
      "text/plain": [
       "[('Peso', 0.5553824305534363),\n",
       " ('Greenback', 0.4611453115940094),\n",
       " ('Financial_DLLR', 0.4427323043346405),\n",
       " ('Romanian_Leu', 0.4391007125377655),\n",
       " ('Firmer_Against', 0.4282413721084595),\n",
       " ('Mexcio', 0.4204976260662079),\n",
       " ('Hungarian_Forint', 0.4182077944278717),\n",
       " ('Loonie', 0.41796350479125977),\n",
       " ('Peso_Opens', 0.4157997965812683),\n",
       " ('Colombian_Peso', 0.4136069118976593)]"
      ]
     },
     "execution_count": 23,
     "metadata": {},
     "output_type": "execute_result"
    }
   ],
   "source": [
    "wv.most_similar(positive=['Dollar', 'Mexico'], negative=['United_States'])"
   ]
  },
  {
   "cell_type": "code",
   "execution_count": 24,
   "id": "11377ebe-afb3-482d-b45d-c7d092eb95de",
   "metadata": {},
   "outputs": [
    {
     "data": {
      "text/plain": [
       "[('down', 0.47779443860054016),\n",
       " ('off', 0.37129518389701843),\n",
       " ('aside', 0.36451300978660583),\n",
       " ('in.', 0.35753732919692993),\n",
       " ('out', 0.35602906346321106),\n",
       " ('saddening', 0.354120671749115),\n",
       " ('apart', 0.3414230942726135),\n",
       " ('horrifying', 0.3372592031955719),\n",
       " ('Turkoman_Shiites', 0.33696192502975464),\n",
       " ('ups', 0.33589640259742737)]"
      ]
     },
     "execution_count": 24,
     "metadata": {},
     "output_type": "execute_result"
    }
   ],
   "source": [
    "wv.most_similar(positive=['sad', 'up'], negative=['happy'])"
   ]
  },
  {
   "cell_type": "code",
   "execution_count": 25,
   "id": "c00aa831-86c7-4f0b-89f4-4b932057a212",
   "metadata": {},
   "outputs": [
    {
     "data": {
      "text/plain": [
       "[('Ottawa', 0.6629177331924438),\n",
       " ('Saskatoon', 0.635101318359375),\n",
       " ('Toronto', 0.63128662109375),\n",
       " ('Winnipeg', 0.6305069923400879),\n",
       " ('Vancouver', 0.5973448157310486),\n",
       " ('Edmonton', 0.5950410962104797),\n",
       " ('Fredericton', 0.5898652076721191),\n",
       " ('Calgary', 0.5881612300872803),\n",
       " ('Thunder_Bay', 0.5864453315734863),\n",
       " ('Manitoba', 0.5829135179519653)]"
      ]
     },
     "execution_count": 25,
     "metadata": {},
     "output_type": "execute_result"
    }
   ],
   "source": [
    "wv.most_similar(positive=['Sacramento', 'Canada'], negative=['California'])"
   ]
  },
  {
   "cell_type": "code",
   "execution_count": 26,
   "id": "f0b6f805-67a3-472b-a726-f021f69147dd",
   "metadata": {},
   "outputs": [
    {
     "data": {
      "text/plain": [
       "[('Spokane', 0.5503137111663818),\n",
       " ('Seattle', 0.5467826128005981),\n",
       " ('Washingon', 0.5098150968551636),\n",
       " ('Portland', 0.5031915307044983),\n",
       " ('Washinton', 0.4988557994365692),\n",
       " ('Wash_ington', 0.4968692362308502),\n",
       " ('Wizards_Etan_Thomas', 0.48660945892333984),\n",
       " ('Yakima', 0.4854264259338379),\n",
       " ('Bellevue', 0.47607871890068054),\n",
       " ('Tacoma', 0.47583305835723877)]"
      ]
     },
     "execution_count": 26,
     "metadata": {},
     "output_type": "execute_result"
    }
   ],
   "source": [
    "wv.most_similar(positive=['Sacramento', 'Washington'], negative=['California'])"
   ]
  },
  {
   "cell_type": "code",
   "execution_count": 27,
   "id": "6025337b-f247-4139-95d9-e01841d023f9",
   "metadata": {},
   "outputs": [
    {
     "data": {
      "text/plain": [
       "[('poutine', 0.6137834787368774),\n",
       " ('donair', 0.5990861654281616),\n",
       " ('burger', 0.588463544845581),\n",
       " ('hotdog', 0.5695340633392334),\n",
       " ('Swiss_Chalet', 0.5682101845741272),\n",
       " ('Timmies', 0.5621650218963623),\n",
       " ('burgers', 0.5535664558410645),\n",
       " ('hamburgers', 0.5418270826339722),\n",
       " ('perogies', 0.5386622548103333),\n",
       " ('peameal_bacon', 0.5319751501083374)]"
      ]
     },
     "execution_count": 27,
     "metadata": {},
     "output_type": "execute_result"
    }
   ],
   "source": [
    "wv.most_similar(positive=['hamburger', 'Canada'], negative=['United_States'])"
   ]
  },
  {
   "cell_type": "code",
   "execution_count": 32,
   "id": "286dab18-3142-401d-9658-76dc4f3d5153",
   "metadata": {},
   "outputs": [
    {
     "data": {
      "text/plain": [
       "[('heavy_rain', 0.5466160178184509),\n",
       " ('Rain', 0.5086942315101624),\n",
       " ('downpour', 0.5026025772094727),\n",
       " ('rains', 0.4748978912830353),\n",
       " ('downpours', 0.47341033816337585),\n",
       " ('torrential_rain', 0.47282513976097107),\n",
       " ('drizzle', 0.4708229899406433),\n",
       " ('heavy_downpour', 0.4535405933856964),\n",
       " ('wet_weather', 0.45113813877105713),\n",
       " ('torrential_downpour', 0.45040756464004517)]"
      ]
     },
     "execution_count": 32,
     "metadata": {},
     "output_type": "execute_result"
    }
   ],
   "source": [
    "wv.most_similar(positive=['work', 'rain'], negative=['vacation'])"
   ]
  },
  {
   "cell_type": "markdown",
   "id": "3a3bef04-6c7a-4332-9a5d-ce4be72bd52c",
   "metadata": {},
   "source": [
    "# Creating Custom Word Embeddings"
   ]
  },
  {
   "cell_type": "markdown",
   "id": "5397cb46-3c81-49e9-b7bb-37efe55803d4",
   "metadata": {},
   "source": [
    "In the previous example, we used a *pretrained* word embedding. That is, the word embedding was already trained using a very large corpus from Google News. What about when we want to train our own word embeddings from a new corpus?\n",
    "\n",
    "We can do that using `gensim` as well. However, if the corpus is large, training becomes very computationally taxing. So, we'll try training our own word embeddings, but on a much smaller corpus. Specifically, we'll return to one you should recognize: the airline tweets corpus!\n",
    "\n",
    "Let's go ahead and get set up by importing the dataset and preprocessing, as we did in Part 2."
   ]
  },
  {
   "cell_type": "code",
   "execution_count": 33,
   "id": "9dda1c4d-5006-422d-a3c6-857d59a08f02",
   "metadata": {},
   "outputs": [],
   "source": [
    "tweets_path = '../data/airline_tweets.csv'\n",
    "tweets = pd.read_csv(tweets_path, sep=',')"
   ]
  },
  {
   "cell_type": "code",
   "execution_count": 34,
   "id": "d8a22b90-c66d-4ab0-a164-bd30c67241af",
   "metadata": {},
   "outputs": [],
   "source": [
    "def preprocess(text):\n",
    "    \"\"\"Preprocesses a string.\"\"\"\n",
    "    # Lowercase\n",
    "    text = text.lower()\n",
    "    # Replace URLs\n",
    "    url_pattern = r'https?:\\/\\/.*[\\r\\n]*'\n",
    "    url_repl = ' URL '\n",
    "    text = re.sub(url_pattern, url_repl, text)\n",
    "    # Replace digits\n",
    "    digit_pattern = '\\d+'\n",
    "    digit_repl = ' DIGIT '\n",
    "    text = re.sub(digit_pattern, digit_repl, text)\n",
    "    # Replace hashtags\n",
    "    hashtag_pattern = r'(?:^|\\s)[＃#]{1}(\\w+)'\n",
    "    hashtag_repl = ' HASHTAG '\n",
    "    text = re.sub(hashtag_pattern, hashtag_repl, text)\n",
    "    # Replace users\n",
    "    user_pattern = r'@(\\w+)'\n",
    "    user_repl = ' USER '\n",
    "    text = re.sub(user_pattern, user_repl, text)\n",
    "    # Remove blank spaces\n",
    "    blankspace_pattern = r'\\s+'\n",
    "    blankspace_repl = ' '\n",
    "    text = re.sub(blankspace_pattern, blankspace_repl, text).strip()\n",
    "    return text"
   ]
  },
  {
   "cell_type": "code",
   "execution_count": 35,
   "id": "bfb5e805-3750-449c-ac6e-6fee95c0896c",
   "metadata": {},
   "outputs": [
    {
     "data": {
      "text/plain": [
       "0                                 USER what USER said.\n",
       "1    USER plus you've added commercials to the expe...\n",
       "2    USER i didn't today... must mean i need to tak...\n",
       "3    USER it's really aggressive to blast obnoxious...\n",
       "4        USER and it's a really big bad thing about it\n",
       "Name: text_processed, dtype: object"
      ]
     },
     "execution_count": 35,
     "metadata": {},
     "output_type": "execute_result"
    }
   ],
   "source": [
    "tweets['text_processed'] = tweets['text'].apply(lambda x: preprocess(x))\n",
    "tweets['text_processed'].head()"
   ]
  },
  {
   "cell_type": "markdown",
   "id": "bbb98145-a9ae-47ec-9928-99d850e57586",
   "metadata": {},
   "source": [
    "To create our own model, we need to import the `Word2Vec` module from `gensim`:"
   ]
  },
  {
   "cell_type": "code",
   "execution_count": 36,
   "id": "126c3ba3-c322-43f2-ae73-f0244a68b65f",
   "metadata": {},
   "outputs": [],
   "source": [
    "from gensim.models import Word2Vec"
   ]
  },
  {
   "cell_type": "markdown",
   "id": "07f07191-ce87-46a2-bd09-2729312f25a4",
   "metadata": {},
   "source": [
    "You can check out the documentation for this module [here](https://radimrehurek.com/gensim/models/word2vec.html#gensim.models.word2vec.Word2Vec). The main input to `Word2Vec` is a `sentences` argument, which consists of a list of lists: the outer list enumerates the documents, and the inner list enumerates the tokens within in each list. So, we need to run a word tokenizer on each of the tweets. Let's use `nltk`'s word tokenizer:"
   ]
  },
  {
   "cell_type": "code",
   "execution_count": 37,
   "id": "4c5a6831-5b42-4ed3-99b8-3241b84a4785",
   "metadata": {},
   "outputs": [],
   "source": [
    "from nltk.tokenize import word_tokenize"
   ]
  },
  {
   "cell_type": "code",
   "execution_count": 38,
   "id": "efe2ca18-d18c-4248-924e-92fe5c9f97cc",
   "metadata": {},
   "outputs": [],
   "source": [
    "sentences = [word_tokenize(tweet) for tweet in tweets['text_processed']]"
   ]
  },
  {
   "cell_type": "code",
   "execution_count": 39,
   "id": "5a6e0abf-8a99-49f1-aaf5-ea21cb56cf50",
   "metadata": {},
   "outputs": [
    {
     "data": {
      "text/plain": [
       "['USER', 'what', 'USER', 'said', '.']"
      ]
     },
     "execution_count": 39,
     "metadata": {},
     "output_type": "execute_result"
    }
   ],
   "source": [
    "sentences[0]"
   ]
  },
  {
   "cell_type": "markdown",
   "id": "b273230a-5c31-4156-a183-53fdd7aecc78",
   "metadata": {},
   "source": [
    "Now, we train the model. We are going to use CBOW to train the model since it's better suited for smaller datasets. Take note of what other arguments we set:"
   ]
  },
  {
   "cell_type": "code",
   "execution_count": 40,
   "id": "ceaf88ad-677f-47de-bde5-cca609c7a243",
   "metadata": {},
   "outputs": [],
   "source": [
    "model = Word2Vec(\n",
    "    sentences=sentences,\n",
    "    vector_size=30,\n",
    "    window=5,\n",
    "    min_count=1,\n",
    "    sg=0)"
   ]
  },
  {
   "cell_type": "markdown",
   "id": "7997232a-2337-4709-87c0-f8e40971d1a1",
   "metadata": {},
   "source": [
    "The model is now trained! Let's take a look at some word vectors. We can access them using the `wv` attribute:"
   ]
  },
  {
   "cell_type": "code",
   "execution_count": 41,
   "id": "91bbdcaa-e04c-42fa-8b28-9b892f7abe89",
   "metadata": {},
   "outputs": [
    {
     "data": {
      "text/plain": [
       "11416"
      ]
     },
     "execution_count": 41,
     "metadata": {},
     "output_type": "execute_result"
    }
   ],
   "source": [
    "len(model.wv)"
   ]
  },
  {
   "cell_type": "code",
   "execution_count": 42,
   "id": "4f1b2108-6022-4e78-ac4b-56bf80665d15",
   "metadata": {},
   "outputs": [
    {
     "data": {
      "text/plain": [
       "array([ 2.2056377 , -1.9333711 ,  0.5149641 , -0.19023997,  1.3556246 ,\n",
       "        0.14056772,  1.1613837 ,  0.92067295, -0.92699295,  0.02519775,\n",
       "        0.5270743 , -0.18257314,  0.91322386, -1.1264545 ,  0.49621043,\n",
       "       -0.5633961 ,  1.554221  ,  0.6007466 ,  0.8047933 ,  1.9140939 ,\n",
       "       -0.40510353, -1.577057  ,  1.3557762 ,  0.6834252 ,  0.9947211 ,\n",
       "        1.6152983 ,  0.10821747,  0.9800965 ,  0.33582798, -2.3646502 ],\n",
       "      dtype=float32)"
      ]
     },
     "execution_count": 42,
     "metadata": {},
     "output_type": "execute_result"
    }
   ],
   "source": [
    "model.wv['worst']"
   ]
  },
  {
   "cell_type": "markdown",
   "id": "bc5b9a5f-3d8c-4e61-a24f-23ed9bda530d",
   "metadata": {},
   "source": [
    "Let's try running a `most_similar` query to see what we end up with:"
   ]
  },
  {
   "cell_type": "code",
   "execution_count": 43,
   "id": "4578c24a-b913-4254-8a6c-ac4de77c878c",
   "metadata": {},
   "outputs": [
    {
     "data": {
      "text/plain": [
       "[('experience', 0.9590411186218262),\n",
       " ('horrible', 0.9436632394790649),\n",
       " ('ever', 0.9369516968727112),\n",
       " ('dealt', 0.9329656362533569),\n",
       " ('terrible', 0.9213968515396118),\n",
       " ('disappointed', 0.9093981981277466),\n",
       " ('awful', 0.8859463334083557),\n",
       " ('experienced', 0.8848305940628052),\n",
       " ('experiences', 0.8834440112113953),\n",
       " ('officially', 0.8824867010116577)]"
      ]
     },
     "execution_count": 43,
     "metadata": {},
     "output_type": "execute_result"
    }
   ],
   "source": [
    "model.wv.most_similar('worst')"
   ]
  },
  {
   "cell_type": "code",
   "execution_count": 44,
   "id": "fde0ac2f-bac5-40bf-8f3b-81031183c9da",
   "metadata": {},
   "outputs": [
    {
     "data": {
      "text/plain": [
       "[('awesome', 0.9499430060386658),\n",
       " ('horrible', 0.9134411215782166),\n",
       " ('amazing', 0.9132348895072937),\n",
       " ('excellent', 0.9080108404159546),\n",
       " ('truly', 0.9033851027488708),\n",
       " ('terrible', 0.893530011177063),\n",
       " ('job', 0.8933104872703552),\n",
       " ('incredible', 0.8909650444984436),\n",
       " ('sucks', 0.8887729644775391),\n",
       " ('😊', 0.8882960677146912)]"
      ]
     },
     "execution_count": 44,
     "metadata": {},
     "output_type": "execute_result"
    }
   ],
   "source": [
    "model.wv.most_similar('great')"
   ]
  },
  {
   "cell_type": "code",
   "execution_count": 45,
   "id": "a16554ab-06c8-4fc4-8d2f-1e134263bf8e",
   "metadata": {},
   "outputs": [
    {
     "data": {
      "text/plain": [
       "[('sw', 0.9786347150802612),\n",
       " ('water', 0.972813069820404),\n",
       " ('errors', 0.9717756509780884),\n",
       " ('virgin', 0.971594512462616),\n",
       " ('fraud', 0.9712207317352295),\n",
       " ('extremely', 0.9705446362495422),\n",
       " ('stopped', 0.9695917367935181),\n",
       " ('dept', 0.9691978693008423),\n",
       " ('zero', 0.9691344499588013),\n",
       " ('fails', 0.968288242816925)]"
      ]
     },
     "execution_count": 45,
     "metadata": {},
     "output_type": "execute_result"
    }
   ],
   "source": [
    "model.wv.most_similar('united')"
   ]
  },
  {
   "cell_type": "markdown",
   "id": "d8e92543-087b-4ec6-b490-fb5f14dcec77",
   "metadata": {},
   "source": [
    "The `word2vec` model learned these relationships from the roughly 11,000 tweets in the corpus. These relationships look similar to some in the Google News word embeddings, have some differences that stem from the particular nature of the corpus, and the smaller number of documents."
   ]
  },
  {
   "cell_type": "markdown",
   "id": "de9b7584-91cc-43bf-8279-400c1bf3ccf1",
   "metadata": {},
   "source": [
    "## Challenge 3\n",
    "\n",
    "Try experimenting with different numbers of vector sizes, window sizes, and other parameters available in the `Word2Vec` module. Additionally, try training using skip-grams rather than CBOW."
   ]
  },
  {
   "cell_type": "code",
   "execution_count": 48,
   "id": "1baae604-2865-48db-8c88-37e462faf968",
   "metadata": {},
   "outputs": [],
   "source": [
    "tweets_path = '../data/airline_tweets.csv'\n",
    "tweets = pd.read_csv(tweets_path, sep=',')"
   ]
  },
  {
   "cell_type": "code",
   "execution_count": 49,
   "id": "27c18d63-a248-4d80-9a55-fbff538db675",
   "metadata": {},
   "outputs": [],
   "source": [
    "def preprocess(text):\n",
    "    \"\"\"Preprocesses a string.\"\"\"\n",
    "    # Lowercase\n",
    "    text = text.lower()\n",
    "    # Replace URLs\n",
    "    url_pattern = r'https?:\\/\\/.*[\\r\\n]*'\n",
    "    url_repl = ' URL '\n",
    "    text = re.sub(url_pattern, url_repl, text)\n",
    "    # Replace digits\n",
    "    digit_pattern = '\\d+'\n",
    "    digit_repl = ' DIGIT '\n",
    "    text = re.sub(digit_pattern, digit_repl, text)\n",
    "    # Replace hashtags\n",
    "    hashtag_pattern = r'(?:^|\\s)[＃#]{1}(\\w+)'\n",
    "    hashtag_repl = ' HASHTAG '\n",
    "    text = re.sub(hashtag_pattern, hashtag_repl, text)\n",
    "    # Replace users\n",
    "    user_pattern = r'@(\\w+)'\n",
    "    user_repl = ' USER '\n",
    "    text = re.sub(user_pattern, user_repl, text)\n",
    "    # Remove blank spaces\n",
    "    blankspace_pattern = r'\\s+'\n",
    "    blankspace_repl = ' '\n",
    "    text = re.sub(blankspace_pattern, blankspace_repl, text).strip()\n",
    "    return text"
   ]
  },
  {
   "cell_type": "code",
   "execution_count": 50,
   "id": "4106231f-2b3a-4473-9cd0-8db1d6903160",
   "metadata": {},
   "outputs": [
    {
     "data": {
      "text/plain": [
       "0                                 USER what USER said.\n",
       "1    USER plus you've added commercials to the expe...\n",
       "2    USER i didn't today... must mean i need to tak...\n",
       "3    USER it's really aggressive to blast obnoxious...\n",
       "4        USER and it's a really big bad thing about it\n",
       "Name: text_processed, dtype: object"
      ]
     },
     "execution_count": 50,
     "metadata": {},
     "output_type": "execute_result"
    }
   ],
   "source": [
    "tweets['text_processed'] = tweets['text'].apply(lambda x: preprocess(x))\n",
    "tweets['text_processed'].head()"
   ]
  },
  {
   "cell_type": "code",
   "execution_count": 51,
   "id": "e3f032a6-46b0-45dd-9abf-3a9af205d783",
   "metadata": {},
   "outputs": [],
   "source": [
    "sentences = [word_tokenize(tweet) for tweet in tweets['text_processed']]"
   ]
  },
  {
   "cell_type": "code",
   "execution_count": 52,
   "id": "68fb8af4-87fe-4301-a4c1-d65b3fac5416",
   "metadata": {},
   "outputs": [],
   "source": [
    "model = Word2Vec(\n",
    "    sentences=sentences,\n",
    "    vector_size=50,\n",
    "    window=5,\n",
    "    min_count=2,\n",
    "    sg=1)"
   ]
  },
  {
   "cell_type": "code",
   "execution_count": 55,
   "id": "6c3f50de-b5b8-4477-9781-c8b0a8159f78",
   "metadata": {},
   "outputs": [
    {
     "data": {
      "text/plain": [
       "[('albany', 0.9793749451637268),\n",
       " ('pressure', 0.9783806800842285),\n",
       " ('inches', 0.9754108786582947),\n",
       " ('oscar', 0.974621057510376),\n",
       " ('yourself', 0.972838819026947),\n",
       " ('vaca', 0.9727298021316528),\n",
       " ('yummy', 0.9720657467842102),\n",
       " ('calendar', 0.9719467759132385),\n",
       " ('troubadour', 0.9719133973121643),\n",
       " ('april', 0.9712861180305481)]"
      ]
     },
     "execution_count": 55,
     "metadata": {},
     "output_type": "execute_result"
    }
   ],
   "source": [
    "model.wv.most_similar('sunshine')"
   ]
  },
  {
   "cell_type": "code",
   "execution_count": 57,
   "id": "2676b0ac-f872-4bff-a76f-9a48650a696d",
   "metadata": {},
   "outputs": [
    {
     "data": {
      "text/plain": [
       "[('room', 0.8966322541236877),\n",
       " ('food', 0.8506208062171936),\n",
       " ('voucher', 0.8441104292869568),\n",
       " ('vouchers', 0.8221388459205627),\n",
       " ('price', 0.8203084468841553),\n",
       " ('cost', 0.8143076300621033),\n",
       " ('baby', 0.8126083612442017),\n",
       " ('group', 0.8063298463821411),\n",
       " ('assigned', 0.8058637976646423),\n",
       " ('stay', 0.805268406867981)]"
      ]
     },
     "execution_count": 57,
     "metadata": {},
     "output_type": "execute_result"
    }
   ],
   "source": [
    "model.wv.most_similar('hotel')"
   ]
  },
  {
   "cell_type": "markdown",
   "id": "5d2bb2f9-1cd8-4e8c-b121-d087d7449bbe",
   "metadata": {},
   "source": [
    "# Classifying with Trained Embeddings"
   ]
  },
  {
   "cell_type": "markdown",
   "id": "44ce2d62-3d5b-4943-9266-e3f1241281cf",
   "metadata": {},
   "source": [
    "In the previous module, we used the airline tweets dataset to perform sentiment classification: we tried to classify the sentiment of a text given the bag-of-words representation. Can we do something similar with a word embedding representation?\n",
    "\n",
    "In the word embedding representation, we have an $N$-dimensional vector for each word in a tweet. How can we come up with a representation for the entire tweet?\n",
    "\n",
    "The simplest approach we could take is to simply average the vectors together to come up with a \"tweet representation\". Let's see how this works for predicting sentiment classification.\n",
    "\n",
    "First, we need to subset the dataset into the tweets which only have positive or negative sentiment:"
   ]
  },
  {
   "cell_type": "code",
   "execution_count": 58,
   "id": "5ae7a379-1f02-417e-9dbd-76af895e50af",
   "metadata": {},
   "outputs": [
    {
     "name": "stdout",
     "output_type": "stream",
     "text": [
      "negative    0.795252\n",
      "positive    0.204748\n",
      "Name: airline_sentiment, dtype: float64\n"
     ]
    }
   ],
   "source": [
    "tweets_binary = tweets[tweets['airline_sentiment'] != 'neutral']\n",
    "y = tweets_binary['airline_sentiment']\n",
    "print(y.value_counts(normalize=True))"
   ]
  },
  {
   "cell_type": "markdown",
   "id": "35def02f-4232-4643-b427-1fedbf472905",
   "metadata": {},
   "source": [
    "Now, we need to compute the feature matrix. We will query the word vector in each tweet, and come up with an average for the sample:"
   ]
  },
  {
   "cell_type": "code",
   "execution_count": 61,
   "id": "c0588d51-6d9e-4566-919b-2d75fd4e9e6d",
   "metadata": {},
   "outputs": [
    {
     "ename": "ValueError",
     "evalue": "operands could not be broadcast together with shapes (30,) (50,) (30,) ",
     "output_type": "error",
     "traceback": [
      "\u001b[0;31m---------------------------------------------------------------------------\u001b[0m",
      "\u001b[0;31mValueError\u001b[0m                                Traceback (most recent call last)",
      "Cell \u001b[0;32mIn[61], line 11\u001b[0m\n\u001b[1;32m      9\u001b[0m \u001b[38;5;66;03m# Enumerate over tokens, obtaining word vectors\u001b[39;00m\n\u001b[1;32m     10\u001b[0m \u001b[38;5;28;01mfor\u001b[39;00m token \u001b[38;5;129;01min\u001b[39;00m tokens:\n\u001b[0;32m---> 11\u001b[0m     X[idx] \u001b[38;5;241m+\u001b[39m\u001b[38;5;241m=\u001b[39m model\u001b[38;5;241m.\u001b[39mwv\u001b[38;5;241m.\u001b[39mget_vector(token)\n\u001b[1;32m     12\u001b[0m \u001b[38;5;66;03m# Take the average\u001b[39;00m\n\u001b[1;32m     13\u001b[0m X[idx] \u001b[38;5;241m/\u001b[39m\u001b[38;5;241m=\u001b[39m n_tokens\n",
      "\u001b[0;31mValueError\u001b[0m: operands could not be broadcast together with shapes (30,) (50,) (30,) "
     ]
    }
   ],
   "source": [
    "vector_size = 30\n",
    "X = np.zeros((len(y), vector_size))\n",
    "\n",
    "# Enumerate over tweets\n",
    "for idx, tweet in enumerate(tweets_binary['text_processed']):\n",
    "    # Tokenize the current tweet\n",
    "    tokens = word_tokenize(tweet)\n",
    "    n_tokens = len(tokens)\n",
    "    # Enumerate over tokens, obtaining word vectors\n",
    "    for token in tokens:\n",
    "        X[idx] += model.wv.get_vector(token)\n",
    "    # Take the average\n",
    "    X[idx] /= n_tokens"
   ]
  },
  {
   "cell_type": "markdown",
   "id": "78f75f96-ca46-421b-b5a6-7cd47af0c997",
   "metadata": {},
   "source": [
    "As before, we'll proceed with splitting the data into train/test examples. We'll bring back the logistic fitter function from before, with some small changes."
   ]
  },
  {
   "cell_type": "code",
   "execution_count": 62,
   "id": "654f81cb-a4ca-4c4d-a7b9-376b6b974988",
   "metadata": {},
   "outputs": [],
   "source": [
    "X_train, X_test, y_train, y_test = train_test_split(X, y, test_size=0.2)"
   ]
  },
  {
   "cell_type": "code",
   "execution_count": 63,
   "id": "3d0f37a2-0712-4d46-93ab-6bdacba845b0",
   "metadata": {},
   "outputs": [],
   "source": [
    "def fit_logistic_regression(X, y):\n",
    "    \"\"\"Fits a logistic regression model to provided data.\"\"\"\n",
    "    model = LogisticRegressionCV(\n",
    "        Cs=10,\n",
    "        penalty='l2',\n",
    "        max_iter=1000,\n",
    "        cv=5,\n",
    "        refit=True).fit(X, y)\n",
    "    return model"
   ]
  },
  {
   "cell_type": "markdown",
   "id": "b8126b42-f8ca-49af-8a8f-f243212478c9",
   "metadata": {},
   "source": [
    "We then run the fit, and evaluate it!"
   ]
  },
  {
   "cell_type": "code",
   "execution_count": 64,
   "id": "f00d9f99-c44e-4b91-b905-32b70ce6674f",
   "metadata": {},
   "outputs": [],
   "source": [
    "# Fit the logistic regression model\n",
    "fitter = fit_logistic_regression(X_train, y_train)"
   ]
  },
  {
   "cell_type": "code",
   "execution_count": 65,
   "id": "c59c916c-ba50-4336-b345-6e9ef29b27fb",
   "metadata": {},
   "outputs": [
    {
     "name": "stdout",
     "output_type": "stream",
     "text": [
      "Training accuracy: 0.7940857885615251\n",
      "Test accuracy: 0.7999133824166306\n"
     ]
    }
   ],
   "source": [
    "print(f\"Training accuracy: {fitter.score(X_train, y_train)}\")\n",
    "print(f\"Test accuracy: {fitter.score(X_test, y_test)}\")"
   ]
  },
  {
   "cell_type": "markdown",
   "id": "40e7141f-2df5-4f1a-a356-aac82c44f982",
   "metadata": {},
   "source": [
    "While this performance is pretty good, it's definitely not as good as the bag-of-words representation we used in the previous module. There are few reasons this might be the case:\n",
    "\n",
    "1. We used a word embedding on a relatively small corpus. A word embedding obtained from a very large corpus would perform better. The tricky part in doing this is that our smaller corpus may have some niche tokens that are not in the larger model, so we'd have to work around that.\n",
    "2. We simply averaged word embeddings across tokens. When doing this, we lose meaning in the ordering of words. Other methods, such as `doc2vec`, have been proposed to address these concerns.\n",
    "3. Word embeddings might be an overly complicated approach for the task at hand. In a tweet aimed at an airline, a person needs to convey their sentiment in only 140 characters. So they are more likely to use relatively simple words that easily convey sentiment, making a bag-of-words a natural approach.\n",
    "\n",
    "It's important to note that we also lose out on the interpretability of the logistic regression model, because the actual dimensions of each word vector do not themselves have any meaning. \n",
    "\n",
    "Moral of the story: word embeddings are great, but always start with the simpler model! This is a good way to baseline other approaches, and it might actually work pretty well!"
   ]
  },
  {
   "cell_type": "markdown",
   "id": "e443ff3f-bc6d-4190-b7aa-109d7909a242",
   "metadata": {},
   "source": [
    "## Challenge 4\n",
    "\n",
    "Write a function that performs the pipeline of building a `word2vec` model and constructing a design matrix. Use this function to try and see if you can change the performance of the model with other parameters (vector sizes, window sizes, etc.)."
   ]
  },
  {
   "cell_type": "code",
   "execution_count": 66,
   "id": "e01b9692-3845-46fe-9140-de660e7dd691",
   "metadata": {},
   "outputs": [],
   "source": [
    "tweets_binary = tweets[tweets['airline_sentiment'] != 'neutral']\n",
    "y = tweets_binary['airline_sentiment']"
   ]
  },
  {
   "cell_type": "code",
   "execution_count": 67,
   "id": "8a0ccf1a-5655-45c3-bfc7-0a6cca05255b",
   "metadata": {},
   "outputs": [],
   "source": [
    "def featurizer(documents, to_train, vector_size=50, window=6, sg=0):\n",
    "    \"\"\"Computes a feature matrix from a document corpus.\"\"\"\n",
    "    sentences = [word_tokenize(doc) for doc in documents]\n",
    "    # Train word2vec\n",
    "    model = Word2Vec(\n",
    "        sentences=sentences,\n",
    "        vector_size=vector_size,\n",
    "        window=window,\n",
    "        min_count=1,\n",
    "        sg=sg)\n",
    "    \n",
    "    X = np.zeros((len(to_train), vector_size))\n",
    "    # Enumerate over tweets\n",
    "    for idx, doc in enumerate(to_train):\n",
    "        # Tokenize the current tweet\n",
    "        tokens = word_tokenize(doc)\n",
    "        n_tokens = len(tokens)\n",
    "        # Enumerate over tokens, obtaining word vectors\n",
    "        for token in tokens:\n",
    "            X[idx] += model.wv.get_vector(token)\n",
    "        # Take the average\n",
    "        X[idx] /= n_tokens\n",
    "    return X"
   ]
  },
  {
   "cell_type": "code",
   "execution_count": 68,
   "id": "64104fa1-44c8-49ef-ad44-58c580b07951",
   "metadata": {},
   "outputs": [],
   "source": [
    "X = featurizer(tweets['text_processed'], tweets_binary['text_processed'], vector_size=80, window=6)"
   ]
  },
  {
   "cell_type": "code",
   "execution_count": 69,
   "id": "8c9dc16e-f7b0-4f33-b165-2f179d39c172",
   "metadata": {},
   "outputs": [],
   "source": [
    "X_train, X_test, y_train, y_test = train_test_split(X, y, test_size=0.2)"
   ]
  },
  {
   "cell_type": "code",
   "execution_count": 70,
   "id": "cd7e9065-0026-4ac4-9e5c-f9d6d26a4dbe",
   "metadata": {},
   "outputs": [],
   "source": [
    "def fit_logistic_regression(X, y):\n",
    "    \"\"\"Fits a logistic regression model to provided data.\"\"\"\n",
    "    model = LogisticRegressionCV(\n",
    "        Cs=5,\n",
    "        penalty='l2',\n",
    "        max_iter=1000,\n",
    "        tol=1e-2,\n",
    "        cv=3,\n",
    "        refit=True).fit(X, y)\n",
    "    return model"
   ]
  },
  {
   "cell_type": "code",
   "execution_count": 71,
   "id": "cf9f3182-244f-421b-bf31-c48fcdf32f0d",
   "metadata": {},
   "outputs": [
    {
     "name": "stderr",
     "output_type": "stream",
     "text": [
      "/Users/blueraspberry/anaconda3/lib/python3.10/site-packages/sklearn/linear_model/_logistic.py:458: ConvergenceWarning: lbfgs failed to converge (status=1):\n",
      "STOP: TOTAL NO. of ITERATIONS REACHED LIMIT.\n",
      "\n",
      "Increase the number of iterations (max_iter) or scale the data as shown in:\n",
      "    https://scikit-learn.org/stable/modules/preprocessing.html\n",
      "Please also refer to the documentation for alternative solver options:\n",
      "    https://scikit-learn.org/stable/modules/linear_model.html#logistic-regression\n",
      "  n_iter_i = _check_optimize_result(\n",
      "/Users/blueraspberry/anaconda3/lib/python3.10/site-packages/sklearn/linear_model/_logistic.py:458: ConvergenceWarning: lbfgs failed to converge (status=1):\n",
      "STOP: TOTAL NO. of ITERATIONS REACHED LIMIT.\n",
      "\n",
      "Increase the number of iterations (max_iter) or scale the data as shown in:\n",
      "    https://scikit-learn.org/stable/modules/preprocessing.html\n",
      "Please also refer to the documentation for alternative solver options:\n",
      "    https://scikit-learn.org/stable/modules/linear_model.html#logistic-regression\n",
      "  n_iter_i = _check_optimize_result(\n",
      "/Users/blueraspberry/anaconda3/lib/python3.10/site-packages/sklearn/linear_model/_logistic.py:458: ConvergenceWarning: lbfgs failed to converge (status=1):\n",
      "STOP: TOTAL NO. of ITERATIONS REACHED LIMIT.\n",
      "\n",
      "Increase the number of iterations (max_iter) or scale the data as shown in:\n",
      "    https://scikit-learn.org/stable/modules/preprocessing.html\n",
      "Please also refer to the documentation for alternative solver options:\n",
      "    https://scikit-learn.org/stable/modules/linear_model.html#logistic-regression\n",
      "  n_iter_i = _check_optimize_result(\n",
      "/Users/blueraspberry/anaconda3/lib/python3.10/site-packages/sklearn/linear_model/_logistic.py:458: ConvergenceWarning: lbfgs failed to converge (status=1):\n",
      "STOP: TOTAL NO. of ITERATIONS REACHED LIMIT.\n",
      "\n",
      "Increase the number of iterations (max_iter) or scale the data as shown in:\n",
      "    https://scikit-learn.org/stable/modules/preprocessing.html\n",
      "Please also refer to the documentation for alternative solver options:\n",
      "    https://scikit-learn.org/stable/modules/linear_model.html#logistic-regression\n",
      "  n_iter_i = _check_optimize_result(\n"
     ]
    }
   ],
   "source": [
    "# Fit the logistic regression model\n",
    "fitter = fit_logistic_regression(X_train, y_train)"
   ]
  },
  {
   "cell_type": "code",
   "execution_count": 72,
   "id": "f749e3e0-2930-4c0e-a730-cb9dc5b62294",
   "metadata": {},
   "outputs": [
    {
     "name": "stdout",
     "output_type": "stream",
     "text": [
      "Training accuracy: 0.8960138648180243\n",
      "Test accuracy: 0.884365526201819\n"
     ]
    }
   ],
   "source": [
    "print(f\"Training accuracy: {fitter.score(X_train, y_train)}\")\n",
    "print(f\"Test accuracy: {fitter.score(X_test, y_test)}\")"
   ]
  },
  {
   "cell_type": "code",
   "execution_count": null,
   "id": "bf64027c-6aeb-45ac-93c7-38da069d5c46",
   "metadata": {},
   "outputs": [],
   "source": []
  }
 ],
 "metadata": {
  "kernelspec": {
   "display_name": "Python 3 (ipykernel)",
   "language": "python",
   "name": "python3"
  },
  "language_info": {
   "codemirror_mode": {
    "name": "ipython",
    "version": 3
   },
   "file_extension": ".py",
   "mimetype": "text/x-python",
   "name": "python",
   "nbconvert_exporter": "python",
   "pygments_lexer": "ipython3",
   "version": "3.10.9"
  }
 },
 "nbformat": 4,
 "nbformat_minor": 5
}
